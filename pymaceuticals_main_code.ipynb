{
 "cells": [
  {
   "cell_type": "markdown",
   "metadata": {},
   "source": [
    "## Observations and Insights"
   ]
  },
  {
   "cell_type": "markdown",
   "metadata": {},
   "source": []
  },
  {
   "cell_type": "markdown",
   "metadata": {},
   "source": [
    "## Dependencies and starter code"
   ]
  },
  {
   "cell_type": "code",
   "execution_count": 1,
   "metadata": {},
   "outputs": [],
   "source": [
    "# Dependencies and Setup\n",
    "import matplotlib.pyplot as plt\n",
    "import pandas as pd\n",
    "import scipy.stats as st\n",
    "import numpy as np\n",
    "\n",
    "#hide warning messages\n",
    "import warnings\n",
    "warnings.filterwarnings('ignore')"
   ]
  },
  {
   "cell_type": "code",
   "execution_count": 2,
   "metadata": {},
   "outputs": [
    {
     "data": {
      "text/html": [
       "<div>\n",
       "<style scoped>\n",
       "    .dataframe tbody tr th:only-of-type {\n",
       "        vertical-align: middle;\n",
       "    }\n",
       "\n",
       "    .dataframe tbody tr th {\n",
       "        vertical-align: top;\n",
       "    }\n",
       "\n",
       "    .dataframe thead th {\n",
       "        text-align: right;\n",
       "    }\n",
       "</style>\n",
       "<table border=\"1\" class=\"dataframe\">\n",
       "  <thead>\n",
       "    <tr style=\"text-align: right;\">\n",
       "      <th></th>\n",
       "      <th>Mouse ID</th>\n",
       "      <th>Timepoint</th>\n",
       "      <th>Tumor Volume (mm3)</th>\n",
       "      <th>Metastatic Sites</th>\n",
       "    </tr>\n",
       "  </thead>\n",
       "  <tbody>\n",
       "    <tr>\n",
       "      <td>0</td>\n",
       "      <td>b128</td>\n",
       "      <td>0</td>\n",
       "      <td>45.0</td>\n",
       "      <td>0</td>\n",
       "    </tr>\n",
       "    <tr>\n",
       "      <td>1</td>\n",
       "      <td>f932</td>\n",
       "      <td>0</td>\n",
       "      <td>45.0</td>\n",
       "      <td>0</td>\n",
       "    </tr>\n",
       "    <tr>\n",
       "      <td>2</td>\n",
       "      <td>g107</td>\n",
       "      <td>0</td>\n",
       "      <td>45.0</td>\n",
       "      <td>0</td>\n",
       "    </tr>\n",
       "    <tr>\n",
       "      <td>3</td>\n",
       "      <td>a457</td>\n",
       "      <td>0</td>\n",
       "      <td>45.0</td>\n",
       "      <td>0</td>\n",
       "    </tr>\n",
       "    <tr>\n",
       "      <td>4</td>\n",
       "      <td>c819</td>\n",
       "      <td>0</td>\n",
       "      <td>45.0</td>\n",
       "      <td>0</td>\n",
       "    </tr>\n",
       "  </tbody>\n",
       "</table>\n",
       "</div>"
      ],
      "text/plain": [
       "  Mouse ID  Timepoint  Tumor Volume (mm3)  Metastatic Sites\n",
       "0     b128          0                45.0                 0\n",
       "1     f932          0                45.0                 0\n",
       "2     g107          0                45.0                 0\n",
       "3     a457          0                45.0                 0\n",
       "4     c819          0                45.0                 0"
      ]
     },
     "execution_count": 2,
     "metadata": {},
     "output_type": "execute_result"
    }
   ],
   "source": [
    "# Study data files\n",
    "mouse_metadata = \"data/Mouse_metadata.csv\"\n",
    "study_results = \"data/Study_results.csv\"\n",
    "\n",
    "# Read the mouse data and the study results\n",
    "mouse_metadata = pd.read_csv(mouse_metadata)\n",
    "study_results = pd.read_csv(study_results)\n",
    "\n",
    "#mouse_metadata.head()\n",
    "study_results.head()"
   ]
  },
  {
   "cell_type": "code",
   "execution_count": 3,
   "metadata": {},
   "outputs": [
    {
     "data": {
      "text/html": [
       "<div>\n",
       "<style scoped>\n",
       "    .dataframe tbody tr th:only-of-type {\n",
       "        vertical-align: middle;\n",
       "    }\n",
       "\n",
       "    .dataframe tbody tr th {\n",
       "        vertical-align: top;\n",
       "    }\n",
       "\n",
       "    .dataframe thead th {\n",
       "        text-align: right;\n",
       "    }\n",
       "</style>\n",
       "<table border=\"1\" class=\"dataframe\">\n",
       "  <thead>\n",
       "    <tr style=\"text-align: right;\">\n",
       "      <th></th>\n",
       "      <th>Mouse ID</th>\n",
       "      <th>Drug Regimen</th>\n",
       "      <th>Sex</th>\n",
       "      <th>Age_months</th>\n",
       "      <th>Weight (g)</th>\n",
       "      <th>Timepoint</th>\n",
       "      <th>Tumor Volume (mm3)</th>\n",
       "      <th>Metastatic Sites</th>\n",
       "    </tr>\n",
       "  </thead>\n",
       "  <tbody>\n",
       "    <tr>\n",
       "      <td>0</td>\n",
       "      <td>k403</td>\n",
       "      <td>Ramicane</td>\n",
       "      <td>Male</td>\n",
       "      <td>21</td>\n",
       "      <td>16</td>\n",
       "      <td>0</td>\n",
       "      <td>45.000000</td>\n",
       "      <td>0</td>\n",
       "    </tr>\n",
       "    <tr>\n",
       "      <td>1</td>\n",
       "      <td>k403</td>\n",
       "      <td>Ramicane</td>\n",
       "      <td>Male</td>\n",
       "      <td>21</td>\n",
       "      <td>16</td>\n",
       "      <td>5</td>\n",
       "      <td>38.825898</td>\n",
       "      <td>0</td>\n",
       "    </tr>\n",
       "    <tr>\n",
       "      <td>2</td>\n",
       "      <td>k403</td>\n",
       "      <td>Ramicane</td>\n",
       "      <td>Male</td>\n",
       "      <td>21</td>\n",
       "      <td>16</td>\n",
       "      <td>10</td>\n",
       "      <td>35.014271</td>\n",
       "      <td>1</td>\n",
       "    </tr>\n",
       "    <tr>\n",
       "      <td>3</td>\n",
       "      <td>k403</td>\n",
       "      <td>Ramicane</td>\n",
       "      <td>Male</td>\n",
       "      <td>21</td>\n",
       "      <td>16</td>\n",
       "      <td>15</td>\n",
       "      <td>34.223992</td>\n",
       "      <td>1</td>\n",
       "    </tr>\n",
       "    <tr>\n",
       "      <td>4</td>\n",
       "      <td>k403</td>\n",
       "      <td>Ramicane</td>\n",
       "      <td>Male</td>\n",
       "      <td>21</td>\n",
       "      <td>16</td>\n",
       "      <td>20</td>\n",
       "      <td>32.997729</td>\n",
       "      <td>1</td>\n",
       "    </tr>\n",
       "  </tbody>\n",
       "</table>\n",
       "</div>"
      ],
      "text/plain": [
       "  Mouse ID Drug Regimen   Sex  Age_months  Weight (g)  Timepoint  \\\n",
       "0     k403     Ramicane  Male          21          16          0   \n",
       "1     k403     Ramicane  Male          21          16          5   \n",
       "2     k403     Ramicane  Male          21          16         10   \n",
       "3     k403     Ramicane  Male          21          16         15   \n",
       "4     k403     Ramicane  Male          21          16         20   \n",
       "\n",
       "   Tumor Volume (mm3)  Metastatic Sites  \n",
       "0           45.000000                 0  \n",
       "1           38.825898                 0  \n",
       "2           35.014271                 1  \n",
       "3           34.223992                 1  \n",
       "4           32.997729                 1  "
      ]
     },
     "execution_count": 3,
     "metadata": {},
     "output_type": "execute_result"
    }
   ],
   "source": [
    "# Combine the data into a single dataset\n",
    "pymaceutical_data = pd.merge(mouse_metadata, study_results, on = 'Mouse ID', how=\"left\")\n",
    "\n",
    "#Show Data\n",
    "pymaceutical_data.head()"
   ]
  },
  {
   "cell_type": "markdown",
   "metadata": {},
   "source": [
    "## Summary statistics"
   ]
  },
  {
   "cell_type": "code",
   "execution_count": 4,
   "metadata": {},
   "outputs": [
    {
     "data": {
      "text/html": [
       "<div>\n",
       "<style scoped>\n",
       "    .dataframe tbody tr th:only-of-type {\n",
       "        vertical-align: middle;\n",
       "    }\n",
       "\n",
       "    .dataframe tbody tr th {\n",
       "        vertical-align: top;\n",
       "    }\n",
       "\n",
       "    .dataframe thead th {\n",
       "        text-align: right;\n",
       "    }\n",
       "</style>\n",
       "<table border=\"1\" class=\"dataframe\">\n",
       "  <thead>\n",
       "    <tr style=\"text-align: right;\">\n",
       "      <th></th>\n",
       "      <th>Tumor Vol_Mean</th>\n",
       "      <th>Tumor Vol_Median</th>\n",
       "      <th>Tumor Vol_Var</th>\n",
       "      <th>Tumor Vol_Std</th>\n",
       "      <th>Tumor Vol_SEM</th>\n",
       "    </tr>\n",
       "    <tr>\n",
       "      <th>Drug Regimen</th>\n",
       "      <th></th>\n",
       "      <th></th>\n",
       "      <th></th>\n",
       "      <th></th>\n",
       "      <th></th>\n",
       "    </tr>\n",
       "  </thead>\n",
       "  <tbody>\n",
       "    <tr>\n",
       "      <td>Capomulin</td>\n",
       "      <td>40.675741</td>\n",
       "      <td>41.557809</td>\n",
       "      <td>24.947764</td>\n",
       "      <td>4.994774</td>\n",
       "      <td>0.329346</td>\n",
       "    </tr>\n",
       "    <tr>\n",
       "      <td>Ceftamin</td>\n",
       "      <td>52.591172</td>\n",
       "      <td>51.776157</td>\n",
       "      <td>39.290177</td>\n",
       "      <td>6.268188</td>\n",
       "      <td>0.469821</td>\n",
       "    </tr>\n",
       "    <tr>\n",
       "      <td>Infubinol</td>\n",
       "      <td>52.884795</td>\n",
       "      <td>51.820584</td>\n",
       "      <td>43.128684</td>\n",
       "      <td>6.567243</td>\n",
       "      <td>0.492236</td>\n",
       "    </tr>\n",
       "    <tr>\n",
       "      <td>Ketapril</td>\n",
       "      <td>55.235638</td>\n",
       "      <td>53.698743</td>\n",
       "      <td>68.553577</td>\n",
       "      <td>8.279709</td>\n",
       "      <td>0.603860</td>\n",
       "    </tr>\n",
       "    <tr>\n",
       "      <td>Naftisol</td>\n",
       "      <td>54.331565</td>\n",
       "      <td>52.509285</td>\n",
       "      <td>66.173479</td>\n",
       "      <td>8.134708</td>\n",
       "      <td>0.596466</td>\n",
       "    </tr>\n",
       "    <tr>\n",
       "      <td>Placebo</td>\n",
       "      <td>54.033581</td>\n",
       "      <td>52.288934</td>\n",
       "      <td>61.168083</td>\n",
       "      <td>7.821003</td>\n",
       "      <td>0.581331</td>\n",
       "    </tr>\n",
       "    <tr>\n",
       "      <td>Propriva</td>\n",
       "      <td>52.322552</td>\n",
       "      <td>50.854632</td>\n",
       "      <td>42.351070</td>\n",
       "      <td>6.507770</td>\n",
       "      <td>0.512884</td>\n",
       "    </tr>\n",
       "    <tr>\n",
       "      <td>Ramicane</td>\n",
       "      <td>40.216745</td>\n",
       "      <td>40.673236</td>\n",
       "      <td>23.486704</td>\n",
       "      <td>4.846308</td>\n",
       "      <td>0.320955</td>\n",
       "    </tr>\n",
       "    <tr>\n",
       "      <td>Stelasyn</td>\n",
       "      <td>54.233149</td>\n",
       "      <td>52.431737</td>\n",
       "      <td>59.450562</td>\n",
       "      <td>7.710419</td>\n",
       "      <td>0.573111</td>\n",
       "    </tr>\n",
       "    <tr>\n",
       "      <td>Zoniferol</td>\n",
       "      <td>53.236507</td>\n",
       "      <td>51.818479</td>\n",
       "      <td>48.533355</td>\n",
       "      <td>6.966589</td>\n",
       "      <td>0.516398</td>\n",
       "    </tr>\n",
       "  </tbody>\n",
       "</table>\n",
       "</div>"
      ],
      "text/plain": [
       "              Tumor Vol_Mean  Tumor Vol_Median  Tumor Vol_Var  Tumor Vol_Std  \\\n",
       "Drug Regimen                                                                   \n",
       "Capomulin          40.675741         41.557809      24.947764       4.994774   \n",
       "Ceftamin           52.591172         51.776157      39.290177       6.268188   \n",
       "Infubinol          52.884795         51.820584      43.128684       6.567243   \n",
       "Ketapril           55.235638         53.698743      68.553577       8.279709   \n",
       "Naftisol           54.331565         52.509285      66.173479       8.134708   \n",
       "Placebo            54.033581         52.288934      61.168083       7.821003   \n",
       "Propriva           52.322552         50.854632      42.351070       6.507770   \n",
       "Ramicane           40.216745         40.673236      23.486704       4.846308   \n",
       "Stelasyn           54.233149         52.431737      59.450562       7.710419   \n",
       "Zoniferol          53.236507         51.818479      48.533355       6.966589   \n",
       "\n",
       "              Tumor Vol_SEM  \n",
       "Drug Regimen                 \n",
       "Capomulin          0.329346  \n",
       "Ceftamin           0.469821  \n",
       "Infubinol          0.492236  \n",
       "Ketapril           0.603860  \n",
       "Naftisol           0.596466  \n",
       "Placebo            0.581331  \n",
       "Propriva           0.512884  \n",
       "Ramicane           0.320955  \n",
       "Stelasyn           0.573111  \n",
       "Zoniferol          0.516398  "
      ]
     },
     "execution_count": 4,
     "metadata": {},
     "output_type": "execute_result"
    }
   ],
   "source": [
    "# Generate a summary statistics table of mean, median, variance, standard deviation, and SEM of the tumor volume for each regimen\n",
    "\n",
    "drug_regimen_group =pymaceutical_data.groupby('Drug Regimen')\n",
    "\n",
    "#Calculations\n",
    "tumor_vlmean = drug_regimen_group['Tumor Volume (mm3)'].mean()\n",
    "tumor_vlmedian =drug_regimen_group['Tumor Volume (mm3)'].median()\n",
    "tumor_vlvar =drug_regimen_group['Tumor Volume (mm3)'].var()\n",
    "tumor_vlstd =drug_regimen_group['Tumor Volume (mm3)'].std()\n",
    "tumor_vlsem =drug_regimen_group['Tumor Volume (mm3)'].sem() \n",
    "tumor_vlcount =drug_regimen_group['Tumor Volume (mm3)'].count() \n",
    "                                 \n",
    "drug_regimen_summary = pd.DataFrame({\"Tumor Vol_Mean\": tumor_vlmean , \"Tumor Vol_Median\": tumor_vlmedian,\n",
    "    \"Tumor Vol_Var\" : tumor_vlvar, \"Tumor Vol_Std\" : tumor_vlstd, \"Tumor Vol_SEM\" : tumor_vlsem})\n",
    "                     \n",
    "#Show summary table\n",
    "drug_regimen_summary.head(10)"
   ]
  },
  {
   "cell_type": "markdown",
   "metadata": {},
   "source": [
    "## Bar plots"
   ]
  },
  {
   "cell_type": "code",
   "execution_count": 5,
   "metadata": {},
   "outputs": [
    {
     "data": {
      "image/png": "[encoded data removed]",
      "text/plain": [
       "<Figure size 864x504 with 1 Axes>"
      ]
     },
     "metadata": {
      "needs_background": "light"
     },
     "output_type": "display_data"
    }
   ],
   "source": [
    "# Generate a bar plot showing number of data points for each treatment regimen using pandas\n",
    "\n",
    "#Dataframe for summary of results\n",
    "drug_group_count = pd.DataFrame(drug_regimen_group.count())\n",
    "\n",
    "# Set x axis and tick locations\n",
    "x_axis = np.arange(len(drug_group_count))\n",
    "tick_locations = [value for value in x_axis]\n",
    "\n",
    "# Create a list indicating where to write x labels and set figure size to adjust for space\n",
    "plt.figure(figsize=(12,7))\n",
    "\n",
    "plt.bar(x_axis, drug_group_count[\"Mouse ID\"], color='limegreen',alpha=0.6, align=\"center\", width = 0.52)\n",
    "plt.xticks(tick_locations, list(drug_group_count.index), rotation=\"vertical\")\n",
    "\n",
    "# Set x and y limits\n",
    "plt.xlim(-0.8, len(x_axis)-0.3)\n",
    "plt.ylim(0.1, max(drug_group_count[\"Mouse ID\"])*1.1)\n",
    "\n",
    "# Set Title and labels\n",
    "plt.title(\"Count of data points vs Drug Regimen\")\n",
    "plt.xlabel(\"Drug Regimen\")\n",
    "plt.ylabel(\"Count\")\n",
    "column_name = [\"Drug Regimen\"]\n",
    "\n",
    "# Save the figure\n",
    "plt.savefig(\"../Pymaceuticals/Pandas_bar.png\")\n",
    "\n",
    "#Show plot\n",
    "plt.show()"
   ]
  },
  {
   "cell_type": "code",
   "execution_count": 6,
   "metadata": {},
   "outputs": [
    {
     "data": {
      "image/png": "[encoded data removed]",
      "text/plain": [
       "<Figure size 864x504 with 1 Axes>"
      ]
     },
     "metadata": {
      "needs_background": "light"
     },
     "output_type": "display_data"
    }
   ],
   "source": [
    "# Generate a bar plot showing number of data points for each treatment regimen using pyplot\n",
    "\n",
    "Drug_Regimen_df= pymaceutical_data.groupby('Drug Regimen').count()['Mouse ID'].sort_values(ascending=False).to_frame()\n",
    "\n",
    "Drug_chart=Drug_Regimen_df.plot(kind=\"bar\", figsize=(12,7), ylim=(120,250),legend=False,\n",
    "                                title=\"Count of data points vs Drug Regimen\")\n",
    "\n",
    "# Set the xlabel and ylabel using class methods\n",
    "Drug_chart.set_xlabel(\"Drug Regimen\")\n",
    "Drug_chart.set_ylabel(\"Count\")\n",
    "plt.tight_layout()\n",
    "\n",
    "# Save the figure\n",
    "plt.savefig(\"../Pymaceuticals/Pyplot_bar.png\")\n",
    "\n",
    "#Show plot\n",
    "plt.show(block = True)\n"
   ]
  },
  {
   "cell_type": "markdown",
   "metadata": {},
   "source": [
    "## Pie plots"
   ]
  },
  {
   "cell_type": "code",
   "execution_count": 7,
   "metadata": {},
   "outputs": [
    {
     "data": {
      "image/png": "[encoded data removed]",
      "text/plain": [
       "<Figure size 432x288 with 1 Axes>"
      ]
     },
     "metadata": {},
     "output_type": "display_data"
    }
   ],
   "source": [
    "# Generate a pie plot showing the distribution of female versus male mice using pandas\n",
    "\n",
    "sex_data=pymaceutical_data[['Mouse ID','Sex']].drop_duplicates()['Sex'].value_counts().to_frame()\n",
    "\n",
    "#Separate male and female\n",
    "male_female_list = sex_data.keys()\n",
    "\n",
    "# Build pie chart\n",
    "sex_pie = sex_data.plot(kind=\"pie\", y=male_female_list, shadow = False,startangle= 180, fontsize=12,  title=\"Mice by Sex\")"
   ]
  },
  {
   "cell_type": "code",
   "execution_count": 9,
   "metadata": {},
   "outputs": [
    {
     "data": {
      "image/png": "[encoded data removed]",
      "text/plain": [
       "<Figure size 432x288 with 1 Axes>"
      ]
     },
     "metadata": {},
     "output_type": "display_data"
    }
   ],
   "source": [
    "# Generate a pie plot showing the distribution of female versus male mice using pyplot\n",
    "\n",
    "# Set colors\n",
    "colors = [\"blue\", \"pink\"]\n",
    "explode = (0.10, 0)\n",
    "\n",
    "#Build pie chart\n",
    "plt.pie(sex_data['Sex'], explode=explode, labels=sex_data.index, colors=colors,\n",
    "        autopct=\"%1.1f%%\", shadow=False, startangle=140)\n",
    "plt.title(\"Mice by sex\")\n",
    "plt.ylabel(\"Sex\")\n",
    "plt.legend(loc='lower right')\n",
    "plt.axis(\"equal\")\n",
    "\n",
    "\n",
    "#Show plot\n",
    "plt.show()"
   ]
  },
  {
   "cell_type": "markdown",
   "metadata": {},
   "source": [
    "## Quartiles, outliers and boxplots"
   ]
  },
  {
   "cell_type": "code",
   "execution_count": 14,
   "metadata": {},
   "outputs": [
    {
     "name": "stdout",
     "output_type": "stream",
     "text": [
      "No outliers in the Capomulin treatment regimen.\n",
      "No outliers in the Ramicane treatment regimen.\n",
      "There are 1 outliers in the Infubinol treatment regimen, which are \n",
      "    Mouse ID Drug Regimen  Tumor Volume (mm3)\n",
      "74     c326    Infubinol           36.321346\n",
      "\n",
      "No outliers in the Placebo treatment regimen.\n"
     ]
    }
   ],
   "source": [
    "# Calculate the final tumor volume of each mouse across four of the most promising treatment regimens. Calculate the IQR and quantitatively determine if there are any potential outliers. \n",
    "#Calculate the IQR and quantitatively determine outliers.\n",
    "\n",
    "IQR_df=pymaceutical_data[['Mouse ID','Drug Regimen','Tumor Volume (mm3)']]\n",
    "\n",
    "#extract the final tumor volume for each mouse\n",
    "final_mouse_df=pd.DataFrame(columns=['Mouse ID', 'Drug Regimen', 'Tumor Volume (mm3)'])\n",
    "row_count=0\n",
    "for i, row in IQR_df.loc[1:len(pymaceutical_data),].iterrows():\n",
    "    if IQR_df.loc[i-1]['Mouse ID'] != IQR_df.loc[i]['Mouse ID']:\n",
    "        final_mouse_df.loc[row_count]=IQR_df.loc[i-1]\n",
    "        row_count+=1\n",
    "        \n",
    "#add the last mouse\n",
    "final_mouse_df.loc[len(final_mouse_df)]=IQR_df.loc[len(IQR_df)-1]\n",
    "\n",
    "\n",
    "#Capomulin Drug df\n",
    "Capomulin_drug=final_mouse_df[final_mouse_df['Drug Regimen']==\"Capomulin\"]\n",
    "\n",
    "#Ketapril Drug df\n",
    "Ketapril_drug=final_mouse_df[final_mouse_df['Drug Regimen']==\"Ketapril\"]\n",
    "\n",
    "#Infubinol Drug df\n",
    "Infubinol_drug=final_mouse_df[final_mouse_df['Drug Regimen']==\"Infubinol\"]\n",
    "\n",
    "#Placebo Drug df\n",
    "Placebo_drug=final_mouse_df[final_mouse_df['Drug Regimen']==\"Placebo\"]\n",
    "\n",
    "\n",
    "#Displaying outliers\n",
    "\n",
    "#Capomulin df\n",
    "Capomulin_df_quartiles = Capomulin_drug['Tumor Volume (mm3)'].quantile([.25,.5,.75])\n",
    "lowerq = Capomulin_df_quartiles[0.25]\n",
    "upperq = Capomulin_df_quartiles[0.75]\n",
    "iqr = upperq-lowerq\n",
    "lower_bound = round(lowerq - (1.5*iqr), 2)\n",
    "upper_bound = round(upperq + (1.5*iqr), 2) \n",
    "outlier=Capomulin_drug[(Capomulin_drug['Tumor Volume (mm3)'] < lower_bound) | (Capomulin_drug['Tumor Volume (mm3)'] > upper_bound)]\n",
    "number_of_outliers=len(outlier)\n",
    "\n",
    "if number_of_outliers>0:\n",
    "    print(f\"There are {number_of_outliers} outliers in the Capomulin treatment regimen, which are \\n {outlier} \\n\")\n",
    "else:\n",
    "    print(f\"No outliers in the Capomulin treatment regimen.\")\n",
    "\n",
    "\n",
    "#Ketapril df\n",
    "Ketapril_df_quartiles = Ketapril_drug['Tumor Volume (mm3)'].quantile([.25,.5,.75])\n",
    "lowerq = Ketapril_df_quartiles[0.25]\n",
    "upperq = Ketapril_df_quartiles[0.75]\n",
    "iqr = upperq-lowerq\n",
    "lower_bound = round(lowerq - (1.5*iqr), 2)\n",
    "upper_bound = round(upperq + (1.5*iqr), 2)\n",
    "outlier=Ketapril_drug[(Ketapril_drug['Tumor Volume (mm3)'] < lower_bound) | (Ketapril_drug['Tumor Volume (mm3)'] > upper_bound)]\n",
    "number_of_outliers=len(outlier)\n",
    "if number_of_outliers>0:\n",
    "    print(f\"There are {number_of_outliers} outliers in the Ramicane treatment regimen, which are \\n {outlier} \\n\")\n",
    "else:\n",
    "    print(f\"No outliers in the Ramicane treatment regimen.\")\n",
    "\n",
    "#Infubinol df\n",
    "Infubinol_df_quartiles = Infubinol_drug['Tumor Volume (mm3)'].quantile([.25,.5,.75])\n",
    "lowerq = Infubinol_df_quartiles[0.25]\n",
    "upperq = Infubinol_df_quartiles[0.75]\n",
    "iqr = upperq-lowerq\n",
    "lower_bound = round(lowerq - (1.5*iqr), 2)\n",
    "upper_bound = round(upperq + (1.5*iqr), 2)\n",
    "outlier=Infubinol_drug[(Infubinol_drug['Tumor Volume (mm3)'] < lower_bound) | (Infubinol_drug['Tumor Volume (mm3)'] > upper_bound)]\n",
    "number_of_outliers=len(outlier)\n",
    "if number_of_outliers>0:\n",
    "    print(f\"There are {number_of_outliers} outliers in the Infubinol treatment regimen, which are \\n {outlier}\\n\")\n",
    "else:\n",
    "    print(f\"No outliers in the Infubinol treatment regimen.\\n\")\n",
    "\n",
    "\n",
    "#Placebo df\n",
    "Placebo_df_quartiles = Placebo_drug['Tumor Volume (mm3)'].quantile([.25,.5,.75])\n",
    "lowerq = Placebo_df_quartiles[0.25]\n",
    "upperq = Placebo_df_quartiles[0.75]\n",
    "iqr = upperq-lowerq\n",
    "lower_bound = round(lowerq - (1.5*iqr), 2)\n",
    "upper_bound = round(upperq + (1.5*iqr), 2)\n",
    "outlier=Placebo_drug[(Placebo_drug['Tumor Volume (mm3)'] < lower_bound) | (Placebo_drug['Tumor Volume (mm3)'] > upper_bound)]\n",
    "number_of_outliers=len(outlier)\n",
    "if number_of_outliers>0:\n",
    "    print(f\"There are {number_of_outliers} outliers in the Placebo drug regimen, which are \\n {outlier} \")\n",
    "else:\n",
    "    print(f\"No outliers in the Placebo treatment regimen.\")"
   ]
  },
  {
   "cell_type": "code",
   "execution_count": 15,
   "metadata": {},
   "outputs": [
    {
     "data": {
      "image/png": "[encoded data removed]",
      "text/plain": [
       "<Figure size 576x432 with 1 Axes>"
      ]
     },
     "metadata": {
      "needs_background": "light"
     },
     "output_type": "display_data"
    }
   ],
   "source": [
    "# Generate a box plot of the final tumor volume of each mouse across four regimens of interest\n",
    "filter_df=final_mouse_df[(final_mouse_df['Drug Regimen']==\"Capomulin\") | (final_mouse_df['Drug Regimen']==\"Ketapril\") | \n",
    "            (final_mouse_df['Drug Regimen']==\"Infubinol\") | (final_mouse_df['Drug Regimen']==\"Placebo\")]\n",
    "fig, ax = plt.subplots(figsize=(8,6))\n",
    "red_square = dict(markerfacecolor='b', marker='D', markersize=5)\n",
    "box_plot = filter_df.boxplot(ax=ax, column = 'Tumor Volume (mm3)', by = 'Drug Regimen', flierprops=red_square)\n",
    "ax.set_ylabel('Tumor Volume (mm3)')\n",
    "plt.show()\n"
   ]
  },
  {
   "cell_type": "markdown",
   "metadata": {},
   "source": [
    "## Line and scatter plots"
   ]
  },
  {
   "cell_type": "code",
   "execution_count": 17,
   "metadata": {},
   "outputs": [
    {
     "data": {
      "image/png": "[encoded data removed]",
      "text/plain": [
       "<Figure size 432x288 with 1 Axes>"
      ]
     },
     "metadata": {
      "needs_background": "light"
     },
     "output_type": "display_data"
    }
   ],
   "source": [
    "# Generate a line plot of time point versus tumor volume for a mouse treated with Capomulin\n",
    "Capomulin_drug_df=pymaceutical_data[pymaceutical_data['Drug Regimen']=='Capomulin'].set_index('Mouse ID')\n",
    "plt.plot(Capomulin_drug_df.loc['s185','Timepoint'], Capomulin_drug_df.loc['s185','Tumor Volume (mm3)'], color=\"blue\")\n",
    "plt.legend(['s185'], loc=\"best\")\n",
    "plt.xlabel(\"Timepoint\")\n",
    "plt.ylabel(\" Tumor Volume (mm3)\")\n",
    "plt.title(\"Time Point vs Tumor Volume \")\n",
    "plt.xlim(min(Capomulin_drug_df['Timepoint'])-4, max(Capomulin_drug_df['Timepoint'])+8)\n",
    "plt.ylim(min(Capomulin_drug_df['Tumor Volume (mm3)'])-1, max(Capomulin_drug_df['Tumor Volume (mm3)'])-2)\n",
    "plt.show()\n"
   ]
  },
  {
   "cell_type": "code",
   "execution_count": 18,
   "metadata": {},
   "outputs": [
    {
     "data": {
      "image/png": "[encoded data removed]",
      "text/plain": [
       "<Figure size 576x360 with 1 Axes>"
      ]
     },
     "metadata": {
      "needs_background": "light"
     },
     "output_type": "display_data"
    }
   ],
   "source": [
    "# Generate a scatter plot of mouse weight versus average tumor volume for the Capomulin regimen\n",
    "weight_drug_df=pymaceutical_data[[\"Mouse ID\",\"Drug Regimen\",\"Weight (g)\",\"Tumor Volume (mm3)\"]]\n",
    "avg_Capomulin_df=weight_drug_df[weight_drug_df['Drug Regimen']=='Capomulin'].groupby('Mouse ID').mean().reset_index()\n",
    "\n",
    "# Build scatter plot \n",
    "plt.figure(figsize=(8,5))\n",
    "scatter=plt.scatter(avg_Capomulin_df[\"Weight (g)\"],avg_Capomulin_df[\"Tumor Volume (mm3)\"], marker=\"o\", \n",
    "            color=\"Gold\", edgecolors=\"black\", s=100, alpha=0.8)\n",
    "plt.xlim(min(avg_Capomulin_df[\"Weight (g)\"])-1, max(avg_Capomulin_df[\"Weight (g)\"])+1)\n",
    "plt.ylim(min(avg_Capomulin_df[\"Tumor Volume (mm3)\"]-1), max(avg_Capomulin_df[\"Tumor Volume (mm3)\"])+1)\n",
    "plt.title(\"Weight vs Average Tumor volume for Capomulin Mouse\")\n",
    "plt.xlabel(\"Weight (g)\")\n",
    "plt.ylabel(\"Average Tumor Volume (mm3)\")\n",
    "\n",
    "#Show gridlines\n",
    "plt.grid(alpha = 0.4)\n",
    "\n",
    "#Show plot\n",
    "plt.show()"
   ]
  },
  {
   "cell_type": "code",
   "execution_count": 19,
   "metadata": {},
   "outputs": [
    {
     "name": "stdout",
     "output_type": "stream",
     "text": [
      "The correlation coefficient is 0.84\n"
     ]
    },
    {
     "data": {
      "image/png": "[encoded data removed]",
      "text/plain": [
       "<Figure size 576x360 with 1 Axes>"
      ]
     },
     "metadata": {
      "needs_background": "light"
     },
     "output_type": "display_data"
    }
   ],
   "source": [
    "# Calculate the correlation coefficient and linear regression model for mouse weight and average tumor volume for the Capomulin regimen\n",
    "weight_drug_df=pymaceutical_data[[\"Mouse ID\",\"Drug Regimen\",\"Weight (g)\",\"Tumor Volume (mm3)\"]]\n",
    "avg_Capomulin_df=weight_drug_df[weight_drug_df['Drug Regimen']=='Capomulin'].groupby('Mouse ID').mean().reset_index()\n",
    "\n",
    "# Build scatter plot \n",
    "plt.figure(figsize=(8,5))\n",
    "scatter=plt.scatter(avg_Capomulin_df[\"Weight (g)\"],avg_Capomulin_df[\"Tumor Volume (mm3)\"], marker=\"o\", \n",
    "            color=\"Gold\", edgecolors=\"black\", s=100, alpha=0.8)\n",
    "plt.xlim(min(avg_Capomulin_df[\"Weight (g)\"])-1, max(avg_Capomulin_df[\"Weight (g)\"])+1)\n",
    "plt.ylim(min(avg_Capomulin_df[\"Tumor Volume (mm3)\"]-1), max(avg_Capomulin_df[\"Tumor Volume (mm3)\"])+1)\n",
    "plt.title(\"Weight vs Average Tumor volume for Capomulin Mouse\")\n",
    "plt.xlabel(\"Weight (g)\")\n",
    "plt.ylabel(\"Average Tumor Volume (mm3)\")\n",
    "\n",
    "#Show gridlines\n",
    "plt.grid(alpha = 0.4)\n",
    "\n",
    "\n",
    "print(f\"The correlation coefficient is \\\n",
    "{round(st.pearsonr(avg_Capomulin_df['Weight (g)'],avg_Capomulin_df['Tumor Volume (mm3)'])[0], 2)}\")\n",
    "\n",
    "# Calculate linear regression\n",
    "(slope, intercept, rvalue, pvalue, stderr) = st.linregress(avg_Capomulin_df['Weight (g)'], avg_Capomulin_df['Tumor Volume (mm3)'])\n",
    "regress_values = avg_Capomulin_df['Weight (g)'] * slope + intercept\n",
    "line_eq = \"y = \" + str(round(slope, 2)) + \"x + \" + str(round(intercept, 2))\n",
    "\n",
    "#draw linear regression line\n",
    "linear_regression=plt.plot(avg_Capomulin_df['Weight (g)'], regress_values, \"r-\")\n",
    "plt.annotate(line_eq, (21,38), fontsize=15, color=\"red\")\n",
    "      \n",
    "#Show plot\n",
    "plt.show()"
   ]
  }
 ],
 "metadata": {
  "anaconda-cloud": {},
  "kernelspec": {
   "display_name": "Python 3",
   "language": "python",
   "name": "python3"
  },
  "language_info": {
   "codemirror_mode": {
    "name": "ipython",
    "version": 3
   },
   "file_extension": ".py",
   "mimetype": "text/x-python",
   "name": "python",
   "nbconvert_exporter": "python",
   "pygments_lexer": "ipython3",
   "version": "3.7.4"
  }
 },
 "nbformat": 4,
 "nbformat_minor": 2
}
